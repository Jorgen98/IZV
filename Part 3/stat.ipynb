{
 "cells": [
  {
   "cell_type": "markdown",
   "metadata": {},
   "source": [
    "# Testovanie hypotézy\n",
    "Testovanie hypotézy pomocou Chi-Square testu. Na základe vstupného datasetu vytvoríme súhrnnú štatistiku nehôd podľa\n",
    "vplyvu alkoholu a závažnosti následkov nehody. Následne pomocou vstavej funkcie knižnice *scipy* vykonáme test.\n",
    "Výsledok testu vypíšeme.\n",
    "\n",
    "## Načítanie vstupných dát\n",
    "V prvom kroku načítame vstupné dáta zo súboru *accidents.pkl.gz*. Z dát extrahujeme stĺpce, ktoré sú dôležité pre test.\n",
    "Zároveň odstránime nedefinované hodnoty."
   ]
  },
  {
   "cell_type": "code",
   "execution_count": 2,
   "metadata": {
    "pycharm": {
     "name": "#%%\n"
    }
   },
   "outputs": [
    {
     "name": "stdout",
     "output_type": "stream",
     "text": [
      "Počet záznamov 485683\n"
     ]
    }
   ],
   "source": [
    "import os\n",
    "import pandas as pd\n",
    "import numpy as np\n",
    "\n",
    "# Názov súboru\n",
    "filename = \"accidents.pkl.gz\"\n",
    "\n",
    "# Overenie, či existuje súbor so vstupnými dátami\n",
    "try:\n",
    "    file_to_open = os.getcwd() + '/' + filename\n",
    "    os.path.isfile(file_to_open)\n",
    "except FileNotFoundError:\n",
    "    exit(-1)\n",
    "\n",
    "# Načítanie obsahu súboru\n",
    "try:\n",
    "    raw_data = pd.read_pickle(file_to_open, compression=\"gzip\")\n",
    "except ValueError:\n",
    "    exit(-1)\n",
    "\n",
    "# Vytvorenie DataFrame\n",
    "raw_data = pd.DataFrame(raw_data)\n",
    "\n",
    "# Extrahujeme len dáta, ktoré potrebujeme\n",
    "raw_data = raw_data.loc[(raw_data['p11'] != 4) & (raw_data['p11'] != 5)][['p11', 'p13a', 'p13b']]\n",
    "raw_data['p11'] = raw_data['p11'].astype('category')\n",
    "raw_data['p13a'] = raw_data['p13a'].astype('category')\n",
    "raw_data['p13b'] = raw_data['p13b'].astype('category')\n",
    "# Odstránime neznáme hodnoty\n",
    "raw_data = raw_data.replace([np.inf, -np.inf], np.nan).dropna().reset_index()\n",
    "print(\"Počet záznamov %d\" %len(raw_data.index))"
   ]
  },
  {
   "cell_type": "markdown",
   "metadata": {},
   "source": [
    "## Vytvorenie súhrnnej štatistiky\n",
    "Vstupné dáta sú analyzované, pričom ich rozdeľujeme do 4 kategórií.\n",
    "* Nehoda so silným vplyvom alkoholu a ťažkými následkami\n",
    "* Nehoda so silným vplyvom alkoholu a ľahkými následkami\n",
    "* Nehoda so slabým vplyvom alkoholu a ťažkými následkami\n",
    "* Nehoda so slabým vplyvom alkoholu a ľahkými následkami\n",
    "\n",
    "Takto kategorizované dáta sú vstupom samotného testu."
   ]
  },
  {
   "cell_type": "code",
   "execution_count": 3,
   "metadata": {},
   "outputs": [
    {
     "data": {
      "text/html": [
       "<div>\n",
       "<style scoped>\n",
       "    .dataframe tbody tr th:only-of-type {\n",
       "        vertical-align: middle;\n",
       "    }\n",
       "\n",
       "    .dataframe tbody tr th {\n",
       "        vertical-align: top;\n",
       "    }\n",
       "\n",
       "    .dataframe thead th {\n",
       "        text-align: right;\n",
       "    }\n",
       "</style>\n",
       "<table border=\"1\" class=\"dataframe\">\n",
       "  <thead>\n",
       "    <tr style=\"text-align: right;\">\n",
       "      <th></th>\n",
       "      <th>těžké zdravotní následky</th>\n",
       "      <th>lehké zdravotní následky</th>\n",
       "    </tr>\n",
       "  </thead>\n",
       "  <tbody>\n",
       "    <tr>\n",
       "      <th>Pod silným vlivem</th>\n",
       "      <td>886</td>\n",
       "      <td>16492</td>\n",
       "    </tr>\n",
       "    <tr>\n",
       "      <th>Pod slabým vlivem</th>\n",
       "      <td>10777</td>\n",
       "      <td>457528</td>\n",
       "    </tr>\n",
       "  </tbody>\n",
       "</table>\n",
       "</div>"
      ],
      "text/plain": [
       "                   těžké zdravotní následky  lehké zdravotní následky\n",
       "Pod silným vlivem                       886                     16492\n",
       "Pod slabým vlivem                     10777                    457528"
      ]
     },
     "execution_count": 3,
     "metadata": {},
     "output_type": "execute_result"
    }
   ],
   "source": [
    "# Pole pre kategorizáciu nehôd\n",
    "count_data = np.array([[0, 0],[0, 0]])\n",
    "\n",
    "# Prechádzanie vstupných dát a triedenie nehôd\n",
    "for index, row in raw_data.iterrows():\n",
    "    # Vplyv alkoholu\n",
    "    if row['p11'] < 7:\n",
    "        # Slabý vplyv alkoholu\n",
    "        # Vážnosť následkov\n",
    "        if (row['p13a'] + row['p13b']) > 0:\n",
    "            # Ťažké následky\n",
    "            count_data[1][0] += 1\n",
    "        else:\n",
    "            # Ľahké následky\n",
    "            count_data[1][1] += 1\n",
    "    else:\n",
    "        # Silný vplyv alkoholu\n",
    "        # Vážnosť následkov\n",
    "        if (row['p13a'] + row['p13b']) > 0:\n",
    "            # Ťažké následky\n",
    "            count_data[0][0] += 1\n",
    "        else:\n",
    "            # Ľahké následky\n",
    "            count_data[0][1] += 1\n",
    "\n",
    "# Pridanie popisov hlavičky do výsledného DataFrame\n",
    "count_data=pd.DataFrame(count_data, columns=[\"těžké zdravotní následky\", \"lehké zdravotní následky\"])\n",
    "count_data.index=[\"Pod silným vlivem\", \"Pod slabým vlivem\"]\n",
    "count_data"
   ]
  },
  {
   "cell_type": "markdown",
   "metadata": {},
   "source": [
    "## Chi-Square test hypotézy\n",
    "Posledným krokom je samotný test hypotézy pomocou vstavej funkcie *chi2_contingency* z knižnice *scipy*.\n",
    "Výsledok testu je zobrazený po skončení výpočtu.\n",
    "\n",
    "Pred spustením testu si stanovíme hypotézu, ktorú chceme dokázať a jej negáciu. Ak bude výsledná hodnota *p_value*\n",
    "nižšia ako hladina významnosti 2,5% hypotéza H0 neplatí, platí pôvodná hypotéza H1.\n",
    "\n",
    "* H0: Pokud viník nehody byl pod silným vlivem alkoholu, nedošlo častěji k těžkým zdravotním následkům.\n",
    "* H1: Pokud viník nehody byl pod silným vlivem alkoholu, došlo častěji k těžkým zdravotním následkům."
   ]
  },
  {
   "cell_type": "code",
   "execution_count": 13,
   "metadata": {
    "pycharm": {
     "name": "#%%\n"
    },
    "scrolled": true
   },
   "outputs": [
    {
     "name": "stdout",
     "output_type": "stream",
     "text": [
      "Hypotéza H0 neplatí, platí pôvodná hypotéza H1\n",
      "p_value:\n"
     ]
    },
    {
     "data": {
      "text/plain": "1.1538462267790811e-123"
     },
     "execution_count": 13,
     "metadata": {},
     "output_type": "execute_result"
    }
   ],
   "source": [
    "from scipy.stats import chi2_contingency\n",
    "\n",
    "# Výpočet samotnej p_value bez Yates korekcie výsledku\n",
    "pval = chi2_contingency(count_data, correction=False)[1]\n",
    "if pval < 0.025:\n",
    "    print(\"Hypotéza H0 neplatí, platí pôvodná hypotéza H1\")\n",
    "else:\n",
    "    print(\"Hypotézu H0 sme nevyvrátili, o H1 nevieme povedať nič\")\n",
    "print(\"p_value:\")\n",
    "pval"
   ]
  }
 ],
 "metadata": {
  "kernelspec": {
   "display_name": "Python 3",
   "language": "python",
   "name": "python3"
  },
  "language_info": {
   "codemirror_mode": {
    "name": "ipython",
    "version": 3
   },
   "file_extension": ".py",
   "mimetype": "text/x-python",
   "name": "python",
   "nbconvert_exporter": "python",
   "pygments_lexer": "ipython3",
   "version": "3.8.5"
  },
  "pycharm": {
   "stem_cell": {
    "cell_type": "raw",
    "source": [
     "# @name IZV 2020/2021 project part 3.\n",
     "# @file stat.ipynb\n",
     "# @author Juraj Lazúr, xlazur00\n",
     "# @date 23.12.2020\n"
    ],
    "metadata": {
     "collapsed": false
    }
   }
  }
 },
 "nbformat": 4,
 "nbformat_minor": 1
}